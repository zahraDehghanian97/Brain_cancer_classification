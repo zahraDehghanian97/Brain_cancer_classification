{
  "nbformat": 4,
  "nbformat_minor": 0,
  "metadata": {
    "accelerator": "GPU",
    "colab": {
      "provenance": [],
      "include_colab_link": true
    },
    "kernelspec": {
      "display_name": "Python 3",
      "name": "python3"
    }
  },
  "cells": [
    {
      "cell_type": "markdown",
      "metadata": {
        "id": "view-in-github",
        "colab_type": "text"
      },
      "source": [
        "<a href=\"https://colab.research.google.com/github/zahraDehghanian97/Brain_cancer_classification/blob/master/Brain_Tumor_MRI_Image_Classification_new.ipynb\" target=\"_parent\"><img src=\"https://colab.research.google.com/assets/colab-badge.svg\" alt=\"Open In Colab\"/></a>"
      ]
    },
    {
      "cell_type": "markdown",
      "metadata": {
        "id": "LAIDsK4nKOXc"
      },
      "source": [
        "# **Detection and Classification of Brain Tumor through Brain MRI Images Using Deep Learning**  "
      ]
    },
    {
      "cell_type": "markdown",
      "metadata": {
        "id": "J3svYHisKuV-"
      },
      "source": [
        "## **1.Introduction**  \n",
        "\n",
        "* The occurrence of brain tumor patients in India is steadily rising,\n",
        "more and more number of cases are reported each year in India across\n",
        "various age groups.  \n",
        "\n",
        "* The [International Association of Cancer Registries (IARC)](https://cutt.ly/Wc4DaIE) reported\n",
        "that there are over $28,000$ cases of brain tumours reported in India\n",
        "each year and more than $24,000$ people reportedly i.e. $85.72\\%$ of the\n",
        "total reported die due to brain tumours annually. Brain tumour’s are\n",
        "a serious condition and in most cases fatal if not detected & treated\n",
        "in early stages.\n",
        "\n"
      ]
    },
    {
      "cell_type": "markdown",
      "metadata": {
        "id": "fCBUpTZzLWBq"
      },
      "source": [
        "## **2. Setting Up Local Storage for Dataset**"
      ]
    },
    {
      "cell_type": "markdown",
      "metadata": {
        "id": "igVi5g2aLhWa"
      },
      "source": [
        "### **2.1 Giving Access To Google Drive**"
      ]
    },
    {
      "cell_type": "code",
      "metadata": {
        "colab": {
          "base_uri": "https://localhost:8080/"
        },
        "id": "1zkla8QFK9B8",
        "outputId": "15457a7c-d909-4439-ec59-3e1545660e71"
      },
      "source": [
        "from google.colab import drive\n",
        "drive.mount('/content/gdrive/')"
      ],
      "execution_count": 2,
      "outputs": [
        {
          "output_type": "stream",
          "name": "stdout",
          "text": [
            "Mounted at /content/gdrive/\n"
          ]
        }
      ]
    },
    {
      "cell_type": "markdown",
      "metadata": {
        "id": "e6yl8ItXKyfv"
      },
      "source": [
        "## **3. Importing Required Libraries**"
      ]
    },
    {
      "cell_type": "code",
      "metadata": {
        "colab": {
          "base_uri": "https://localhost:8080/"
        },
        "id": "OsC7DKICTTO3",
        "outputId": "6417701a-dc3c-4b1e-f670-680f4f12507d"
      },
      "source": [
        "import sys\n",
        "import os\n",
        "import math\n",
        "import h5py\n",
        "import numpy as np\n",
        "import pandas as pd\n",
        "from matplotlib import pyplot as plt\n",
        "from matplotlib import rcParams\n",
        "rcParams['figure.dpi'] = 300\n",
        "%matplotlib inline\n",
        "import seaborn as sns\n",
        "import missingno as msno\n",
        "import plotly.express as px\n",
        "import plotly.graph_objects as go\n",
        "from plotly.subplots import make_subplots\n",
        "import tensorflow as tf\n",
        "from tensorflow.keras.models import Sequential\n",
        "from tensorflow.keras.layers import *\n",
        "from tensorflow.keras.optimizers import *\n",
        "from tensorflow.keras.applications import InceptionV3\n",
        "from tensorflow.keras.callbacks import EarlyStopping, ModelCheckpoint\n",
        "from sklearn.model_selection import train_test_split, KFold\n",
        "from sklearn.metrics import *\n",
        " \n",
        "from PIL import Image, ImageEnhance\n",
        "from tensorflow.keras.preprocessing.image import *\n",
        " \n",
        "print(f'Tensorflow Version: {tf.__version__}.')"
      ],
      "execution_count": 39,
      "outputs": [
        {
          "output_type": "stream",
          "name": "stdout",
          "text": [
            "Tensorflow Version: 2.9.2.\n"
          ]
        }
      ]
    },
    {
      "cell_type": "markdown",
      "metadata": {
        "id": "_Ta1TX_tMUQl"
      },
      "source": [
        "### **4.3 Setting Up Paths to Root and Data Directories**"
      ]
    },
    {
      "cell_type": "code",
      "source": [
        "os.chdir('/content/gdrive/My Drive/Colab Notebooks/Brain Cancer')\n",
        "!ls\n",
        "     \n",
        "\n",
        "#Create a directory named dataset\n",
        "!mkdir dataset\n",
        "!ls -a"
      ],
      "metadata": {
        "colab": {
          "base_uri": "https://localhost:8080/"
        },
        "id": "sOFCdMY9H9sD",
        "outputId": "7acf56d7-add2-4c8e-da36-e2558eeeb789"
      },
      "execution_count": 4,
      "outputs": [
        {
          "output_type": "stream",
          "name": "stdout",
          "text": [
            "data.zip\n",
            "dataset  data.zip\n"
          ]
        }
      ]
    },
    {
      "cell_type": "code",
      "source": [
        "#Download Files\n",
        "from google.colab import files\n",
        "import requests \n",
        "file_url = \"https://ndownloader.figshare.com/articles/1512427/versions/5\"\n",
        "\t\n",
        "r = requests.get(file_url, stream = True) \n",
        "\n",
        "with open(\"/content/gdrive/My Drive/Colab Notebooks/Brain Cancer/data.zip\", \"wb\") as file: \n",
        "\tfor block in r.iter_content(chunk_size = 1024): \n",
        "\t\tif block: \n",
        "\t\t\tfile.write(block) \n"
      ],
      "metadata": {
        "id": "aQDAKfuEH0dg"
      },
      "execution_count": null,
      "outputs": []
    },
    {
      "cell_type": "code",
      "source": [
        "\n",
        "##Unzip data\n",
        "!unzip -q data.zip -d dataset/\n"
      ],
      "metadata": {
        "id": "q7uHSOTlIMjP"
      },
      "execution_count": 5,
      "outputs": []
    },
    {
      "cell_type": "code",
      "source": [
        "import zipfile\n",
        "with zipfile.ZipFile('/content/gdrive/My Drive/Colab Notebooks/Brain Cancer/dataset/brainTumorDataPublic_1-766.zip', 'r') as zip_ref:\n",
        "   zip_ref.extractall('/content/gdrive/My Drive/Colab Notebooks/Brain Cancer/Training')\n",
        "with zipfile.ZipFile('/content/gdrive/My Drive/Colab Notebooks/Brain Cancer/dataset/brainTumorDataPublic_767-1532.zip', 'r') as zip_ref:\n",
        "   zip_ref.extractall('/content/gdrive/My Drive/Colab Notebooks/Brain Cancer/Training')\n",
        "with zipfile.ZipFile('/content/gdrive/My Drive/Colab Notebooks/Brain Cancer/dataset/brainTumorDataPublic_1533-2298.zip', 'r') as zip_ref:\n",
        "   zip_ref.extractall('/content/gdrive/My Drive/Colab Notebooks/Brain Cancer/Training')\n",
        "with zipfile.ZipFile('/content/gdrive/My Drive/Colab Notebooks/Brain Cancer/dataset/brainTumorDataPublic_2299-3064.zip', 'r') as zip_ref:\n",
        "   zip_ref.extractall('/content/gdrive/My Drive/Colab Notebooks/Brain Cancer/Training')\n"
      ],
      "metadata": {
        "id": "i_ynFx-t4FQB"
      },
      "execution_count": 12,
      "outputs": []
    },
    {
      "cell_type": "code",
      "source": [
        "def mat_file_to_dict(filepath: str) -> dict:\n",
        "    tumor_class = {1: 'meningioma', 2: 'glioma', 3: 'pituitary_tumor'}\n",
        "    tumor_data_dict = {}\n",
        "    with h5py.File(filepath, mode = 'r') as image_data:\n",
        "        cjdata_struct = image_data['cjdata']\n",
        "        id  = \"\"\n",
        "        for i in range (len(cjdata_struct['PID'])):\n",
        "          id = id+str(cjdata_struct['PID'][i][0])\n",
        "        tumor_data_dict['PID'] = int(id)\n",
        "        tumor_data_dict['class'] = tumor_class[int(cjdata_struct['label'][0, 0])]\n",
        "        tumor_data_dict['image'] = (cjdata_struct['image'][:].transpose())\n",
        "        tumor_data_dict['tumor_border'] = cjdata_struct['tumorBorder'][0]\n",
        "        tumor_data_dict['tumor_mask'] = cjdata_struct['tumorMask'][:].transpose()\n",
        "    return tumor_data_dict"
      ],
      "metadata": {
        "id": "Fgs3FguML6Hv"
      },
      "execution_count": 15,
      "outputs": []
    },
    {
      "cell_type": "code",
      "source": [
        "!mkdir CleanData\n",
        "!ls\n",
        "os.chdir('/content/gdrive/My Drive/Colab Notebooks/Brain Cancer/CleanData')\n",
        "!mkdir meningioma\n",
        "!mkdir glioma\n",
        "!mkdir pituitary_tumor\n",
        "!ls\n"
      ],
      "metadata": {
        "colab": {
          "base_uri": "https://localhost:8080/"
        },
        "id": "n8IJbNrGN6Sh",
        "outputId": "7d75e97f-10a4-45bb-a9d5-c53425c3ce0b"
      },
      "execution_count": 24,
      "outputs": [
        {
          "output_type": "stream",
          "name": "stdout",
          "text": [
            "glioma\tmeningioma  pituitary_tumor\n"
          ]
        }
      ]
    },
    {
      "cell_type": "code",
      "metadata": {
        "id": "F0vfuVcWqcZ9",
        "colab": {
          "base_uri": "https://localhost:8080/",
          "height": 34
        },
        "outputId": "32ce6feb-f24c-4d27-d4b3-edd811eea27b"
      },
      "source": [
        "rootpath_dataset = '/content/gdrive/My Drive/Colab Notebooks/Brain Cancer'\n",
        "mat_dirname = os.path.join(rootpath_dataset,'Training')\n",
        "training_dir = os.path.join(rootpath_dataset, 'CleanData')\n",
        "m_path = os.path.join(training_dir, 'meningioma')\n",
        "g_path = os.path.join(training_dir, 'glioma')\n",
        "p_path = os.path.join(training_dir, 'pituitary_tumor')\n",
        "data = []\n",
        "m_count, g_count, p_count = (0, 0, 0)\n",
        "for root, dirpath, filenames in os.walk(mat_dirname):\n",
        "    for curr_file in filenames :\n",
        "        mri_img_data = mat_file_to_dict(os.path.join(root, curr_file))\n",
        "        data.append(mri_img_data)\n",
        "        tumor_class = mri_img_data['class']\n",
        "        id = mri_img_data['PID']\n",
        "        if tumor_class == 'meningioma':\n",
        "            m_count += 1\n",
        "            plt.savefig(os.path.join(m_path, f'M{m_count}_{id}.jpg'), dpi = 300, bbox_inches = 'tight', pad_inches = 0)\n",
        "        elif tumor_class == 'glioma':\n",
        "            g_count += 1\n",
        "            plt.savefig(os.path.join(g_path, f'G{g_count}_{id}.jpg'), dpi = 300, bbox_inches = 'tight', pad_inches = 0)\n",
        "        elif tumor_class == 'pituitary_tumor':\n",
        "            p_count += 1\n",
        "            plt.savefig(os.path.join(p_path, f'P{p_count}_{id}.jpg'), dpi = 300, bbox_inches = 'tight', pad_inches = 0)\n",
        "        else:\n",
        "            pass\n",
        "df_images = pd.DataFrame(data)"
      ],
      "execution_count": 25,
      "outputs": [
        {
          "output_type": "display_data",
          "data": {
            "text/plain": [
              "<Figure size 432x288 with 0 Axes>"
            ]
          },
          "metadata": {}
        }
      ]
    },
    {
      "cell_type": "markdown",
      "metadata": {
        "id": "389an7U5Mf41"
      },
      "source": [
        "## **5. Data Preprocessing and Exploratory Data Analysis**"
      ]
    },
    {
      "cell_type": "code",
      "metadata": {
        "id": "zkxWgEs-CXgi"
      },
      "source": [
        "ROOT_DIR = r'/content/gdrive/MyDrive/Colab Notebooks/Brain Cancer/'\n",
        "TRAIN_DIR = os.path.join(ROOT_DIR, 'CleanData')\n",
        "TUMOR_CLASS = ['meningioma', 'glioma', 'pituitary_tumor']\n",
        "IMAGE_DATA_PATHS = [os.path.join(TRAIN_DIR, tumor_class) for tumor_class in TUMOR_CLASS]"
      ],
      "execution_count": 31,
      "outputs": []
    },
    {
      "cell_type": "code",
      "metadata": {
        "colab": {
          "base_uri": "https://localhost:8080/"
        },
        "id": "mWyoNwqsMfAB",
        "outputId": "d514f27c-2667-45c5-bb82-9fea5e78326c"
      },
      "source": [
        "data_distribution_count = pd.Series([len(os.listdir(path)) for path in IMAGE_DATA_PATHS if os.path.exists(path) and os.path.isdir(path)],\n",
        "                                    index = TUMOR_CLASS)\n",
        "data_distribution_count"
      ],
      "execution_count": 32,
      "outputs": [
        {
          "output_type": "execute_result",
          "data": {
            "text/plain": [
              "meningioma          708\n",
              "glioma             1426\n",
              "pituitary_tumor     930\n",
              "dtype: int64"
            ]
          },
          "metadata": {},
          "execution_count": 32
        }
      ]
    },
    {
      "cell_type": "markdown",
      "metadata": {
        "id": "hX_KSI0NMsaS"
      },
      "source": [
        "### **5.1 Data Distribution Visualization**"
      ]
    },
    {
      "cell_type": "code",
      "metadata": {
        "colab": {
          "base_uri": "https://localhost:8080/",
          "height": 345
        },
        "id": "CtEyuefeHADS",
        "outputId": "08b2ba9b-4da0-4f00-a358-1f5780503e42"
      },
      "source": [
        "fig, axis = plt.subplots(figsize = (13, 5))\n",
        "axis.grid(True, alpha = 0.1)\n",
        "axis.set_title(\"Data Distribution Percentage (%)\", fontsize = 14)\n",
        "sns.barplot(x = ['\\n'.join(curr_index.strip().split('_')).title() for curr_index in data_distribution_count.index], \n",
        "            y = 100 * (data_distribution_count / data_distribution_count.sum()), ax = axis)\n",
        "axis.set_xlabel(\"Tumor Class\", fontsize = 12)\n",
        "axis.set_ylabel(\"% Total Observations\", fontsize = 12)\n",
        "axis.tick_params(which = 'major', labelsize = 12)\n",
        "axis.text(2.5, 37, f'Total Observations: {data_distribution_count.sum()}', fontdict = dict(size = 12))\n",
        "sns.despine()"
      ],
      "execution_count": 33,
      "outputs": [
        {
          "output_type": "display_data",
          "data": {
            "text/plain": [
              "<Figure size 936x360 with 1 Axes>"
            ],
            "image/png": "[encoded data removed]"
          },
          "metadata": {
            "needs_background": "light"
          }
        }
      ]
    },
    {
      "cell_type": "markdown",
      "metadata": {
        "id": "hD9dFbSQNDd4"
      },
      "source": [
        "### **5.2 Visualisation of Brain MRI Dataset**"
      ]
    },
    {
      "cell_type": "markdown",
      "metadata": {
        "id": "Aref3Kt5Q-9V"
      },
      "source": [
        "**Dataset Source: https://figshare.com/articles/dataset/brain_tumor_dataset/1512427**  \n",
        "\n",
        "**Source Code for Conversion of `.mat` file to `.jpg`: [Google Colab Notebook Link](https://colab.research.google.com/drive/1aucu3Ipj1eS0y1YEzKq76Z38TaetHSc3?usp=sharing)**  \n",
        "\n",
        "**Final Dataset Link: https://drive.google.com/drive/folders/11QIC82FBdAyq0PUwLVNd22i-oq6lcat1?usp=sharing**"
      ]
    },
    {
      "cell_type": "code",
      "metadata": {
        "colab": {
          "base_uri": "https://localhost:8080/",
          "height": 459
        },
        "id": "PIoMFGLbDnDC",
        "outputId": "daae0442-4182-411d-a389-43b69e324170"
      },
      "source": [
        "import matplotlib.image as mpimg\n",
        "\n",
        "BRIGHTNESS_FACTOR = 1.7\n",
        "fig, axes = plt.subplots(nrows = 2, ncols = 3, figsize = (18, 9))\n",
        "axes = axes.flatten()\n",
        "fig.suptitle(\"Brain Tumor MRI Images (T2w)\", fontsize = 16, fontdict = dict(weight = 'bold'), y = 1.04)\n",
        "for curr_title, filename, curr_axis in zip(TUMOR_CLASS, IMAGE_DATA_PATHS, axes[:3]):\n",
        "    curr_image = Image.open(os.path.join(filename, os.listdir(filename)[0]))\n",
        "    img_enhancer = ImageEnhance.Brightness(curr_image)\n",
        "    curr_axis.imshow(img_enhancer.enhance(BRIGHTNESS_FACTOR),cmap = 'gray')\n",
        "    # curr_axis.imshow(mpimg.imread(os.path.join(filename, os.listdir(filename)[0])),cmap = 'gray')\n",
        "    curr_axis.set_title(\" \".join(curr_title.split('_')).title(), fontsize = 14)\n",
        "\n",
        "for filename, curr_axis in zip(IMAGE_DATA_PATHS, axes[3:]):\n",
        "    curr_image = Image.open(os.path.join(filename, os.listdir(filename)[1]))\n",
        "    mask_enhancer = ImageEnhance.Brightness(curr_image)\n",
        "    curr_axis.imshow(mask_enhancer.enhance(BRIGHTNESS_FACTOR),cmap = 'gray')\n",
        "    # curr_axis.imshow(mpimg.imread(os.path.join(filename, os.listdir(filename)[0])),cmap = 'gray')\n",
        "\n",
        "fig.tight_layout()\n",
        "sns.despine()"
      ],
      "execution_count": 49,
      "outputs": [
        {
          "output_type": "display_data",
          "data": {
            "text/plain": [
              "<Figure size 1296x648 with 6 Axes>"
            ],
            "image/png": "[encoded data removed]"
          },
          "metadata": {
            "needs_background": "light"
          }
        }
      ]
    },
    {
      "cell_type": "markdown",
      "metadata": {
        "id": "uVJ0cTJ7bHE3"
      },
      "source": [
        "### **6. Development of Training, Validation & Testing Dataset**"
      ]
    },
    {
      "cell_type": "code",
      "metadata": {
        "id": "sJPk6GkYlpCI"
      },
      "source": [
        "image_data_paths = []\n",
        "for curr_path, tumor_name in zip(IMAGE_DATA_PATHS, TUMOR_CLASS):\n",
        "    if os.path.exists(curr_path) and os.path.isdir(curr_path):\n",
        "        image_data_paths.extend(map(lambda filename: (os.path.join(curr_path, filename), tumor_name), os.listdir(curr_path)))"
      ],
      "execution_count": 50,
      "outputs": []
    },
    {
      "cell_type": "code",
      "metadata": {
        "colab": {
          "base_uri": "https://localhost:8080/",
          "height": 206
        },
        "id": "Y3LW1gM_gK20",
        "outputId": "d60b6cae-6c5c-4cb0-9c1a-31b77be08fa7"
      },
      "source": [
        "image_data_paths_df = pd.DataFrame(image_data_paths, columns = ['image_filepaths', 'tumor_class']).sample(frac = 1, random_state = 42).reset_index(drop = True)\n",
        "image_data_paths_df.head()"
      ],
      "execution_count": 51,
      "outputs": [
        {
          "output_type": "execute_result",
          "data": {
            "text/plain": [
              "                                     image_filepaths tumor_class\n",
              "0  /content/gdrive/MyDrive/Colab Notebooks/Brain ...      glioma\n",
              "1  /content/gdrive/MyDrive/Colab Notebooks/Brain ...  meningioma\n",
              "2  /content/gdrive/MyDrive/Colab Notebooks/Brain ...      glioma\n",
              "3  /content/gdrive/MyDrive/Colab Notebooks/Brain ...      glioma\n",
              "4  /content/gdrive/MyDrive/Colab Notebooks/Brain ...      glioma"
            ],
            "text/html": [
              "\n",
              "  <div id=\"df-3fac724d-8368-454e-bc24-48fd4da3336f\">\n",
              "    <div class=\"colab-df-container\">\n",
              "      <div>\n",
              "<style scoped>\n",
              "    .dataframe tbody tr th:only-of-type {\n",
              "        vertical-align: middle;\n",
              "    }\n",
              "\n",
              "    .dataframe tbody tr th {\n",
              "        vertical-align: top;\n",
              "    }\n",
              "\n",
              "    .dataframe thead th {\n",
              "        text-align: right;\n",
              "    }\n",
              "</style>\n",
              "<table border=\"1\" class=\"dataframe\">\n",
              "  <thead>\n",
              "    <tr style=\"text-align: right;\">\n",
              "      <th></th>\n",
              "      <th>image_filepaths</th>\n",
              "      <th>tumor_class</th>\n",
              "    </tr>\n",
              "  </thead>\n",
              "  <tbody>\n",
              "    <tr>\n",
              "      <th>0</th>\n",
              "      <td>/content/gdrive/MyDrive/Colab Notebooks/Brain ...</td>\n",
              "      <td>glioma</td>\n",
              "    </tr>\n",
              "    <tr>\n",
              "      <th>1</th>\n",
              "      <td>/content/gdrive/MyDrive/Colab Notebooks/Brain ...</td>\n",
              "      <td>meningioma</td>\n",
              "    </tr>\n",
              "    <tr>\n",
              "      <th>2</th>\n",
              "      <td>/content/gdrive/MyDrive/Colab Notebooks/Brain ...</td>\n",
              "      <td>glioma</td>\n",
              "    </tr>\n",
              "    <tr>\n",
              "      <th>3</th>\n",
              "      <td>/content/gdrive/MyDrive/Colab Notebooks/Brain ...</td>\n",
              "      <td>glioma</td>\n",
              "    </tr>\n",
              "    <tr>\n",
              "      <th>4</th>\n",
              "      <td>/content/gdrive/MyDrive/Colab Notebooks/Brain ...</td>\n",
              "      <td>glioma</td>\n",
              "    </tr>\n",
              "  </tbody>\n",
              "</table>\n",
              "</div>\n",
              "      <button class=\"colab-df-convert\" onclick=\"convertToInteractive('df-3fac724d-8368-454e-bc24-48fd4da3336f')\"\n",
              "              title=\"Convert this dataframe to an interactive table.\"\n",
              "              style=\"display:none;\">\n",
              "        \n",
              "  <svg xmlns=\"http://www.w3.org/2000/svg\" height=\"24px\"viewBox=\"0 0 24 24\"\n",
              "       width=\"24px\">\n",
              "    <path d=\"M0 0h24v24H0V0z\" fill=\"none\"/>\n",
              "    <path d=\"M18.56 5.44l.94 2.06.94-2.06 2.06-.94-2.06-.94-.94-2.06-.94 2.06-2.06.94zm-11 1L8.5 8.5l.94-2.06 2.06-.94-2.06-.94L8.5 2.5l-.94 2.06-2.06.94zm10 10l.94 2.06.94-2.06 2.06-.94-2.06-.94-.94-2.06-.94 2.06-2.06.94z\"/><path d=\"M17.41 7.96l-1.37-1.37c-.4-.4-.92-.59-1.43-.59-.52 0-1.04.2-1.43.59L10.3 9.45l-7.72 7.72c-.78.78-.78 2.05 0 2.83L4 21.41c.39.39.9.59 1.41.59.51 0 1.02-.2 1.41-.59l7.78-7.78 2.81-2.81c.8-.78.8-2.07 0-2.86zM5.41 20L4 18.59l7.72-7.72 1.47 1.35L5.41 20z\"/>\n",
              "  </svg>\n",
              "      </button>\n",
              "      \n",
              "  <style>\n",
              "    .colab-df-container {\n",
              "      display:flex;\n",
              "      flex-wrap:wrap;\n",
              "      gap: 12px;\n",
              "    }\n",
              "\n",
              "    .colab-df-convert {\n",
              "      background-color: #E8F0FE;\n",
              "      border: none;\n",
              "      border-radius: 50%;\n",
              "      cursor: pointer;\n",
              "      display: none;\n",
              "      fill: #1967D2;\n",
              "      height: 32px;\n",
              "      padding: 0 0 0 0;\n",
              "      width: 32px;\n",
              "    }\n",
              "\n",
              "    .colab-df-convert:hover {\n",
              "      background-color: #E2EBFA;\n",
              "      box-shadow: 0px 1px 2px rgba(60, 64, 67, 0.3), 0px 1px 3px 1px rgba(60, 64, 67, 0.15);\n",
              "      fill: #174EA6;\n",
              "    }\n",
              "\n",
              "    [theme=dark] .colab-df-convert {\n",
              "      background-color: #3B4455;\n",
              "      fill: #D2E3FC;\n",
              "    }\n",
              "\n",
              "    [theme=dark] .colab-df-convert:hover {\n",
              "      background-color: #434B5C;\n",
              "      box-shadow: 0px 1px 3px 1px rgba(0, 0, 0, 0.15);\n",
              "      filter: drop-shadow(0px 1px 2px rgba(0, 0, 0, 0.3));\n",
              "      fill: #FFFFFF;\n",
              "    }\n",
              "  </style>\n",
              "\n",
              "      <script>\n",
              "        const buttonEl =\n",
              "          document.querySelector('#df-3fac724d-8368-454e-bc24-48fd4da3336f button.colab-df-convert');\n",
              "        buttonEl.style.display =\n",
              "          google.colab.kernel.accessAllowed ? 'block' : 'none';\n",
              "\n",
              "        async function convertToInteractive(key) {\n",
              "          const element = document.querySelector('#df-3fac724d-8368-454e-bc24-48fd4da3336f');\n",
              "          const dataTable =\n",
              "            await google.colab.kernel.invokeFunction('convertToInteractive',\n",
              "                                                     [key], {});\n",
              "          if (!dataTable) return;\n",
              "\n",
              "          const docLinkHtml = 'Like what you see? Visit the ' +\n",
              "            '<a target=\"_blank\" href=https://colab.research.google.com/notebooks/data_table.ipynb>data table notebook</a>'\n",
              "            + ' to learn more about interactive tables.';\n",
              "          element.innerHTML = '';\n",
              "          dataTable['output_type'] = 'display_data';\n",
              "          await google.colab.output.renderOutput(dataTable, element);\n",
              "          const docLink = document.createElement('div');\n",
              "          docLink.innerHTML = docLinkHtml;\n",
              "          element.appendChild(docLink);\n",
              "        }\n",
              "      </script>\n",
              "    </div>\n",
              "  </div>\n",
              "  "
            ]
          },
          "metadata": {},
          "execution_count": 51
        }
      ]
    },
    {
      "cell_type": "code",
      "metadata": {
        "colab": {
          "base_uri": "https://localhost:8080/"
        },
        "id": "qPrZmgU2t6bH",
        "outputId": "c9f69733-8892-413a-b894-16e640f54eda"
      },
      "source": [
        "image_data_paths_df.info()"
      ],
      "execution_count": 52,
      "outputs": [
        {
          "output_type": "stream",
          "name": "stdout",
          "text": [
            "<class 'pandas.core.frame.DataFrame'>\n",
            "RangeIndex: 3064 entries, 0 to 3063\n",
            "Data columns (total 2 columns):\n",
            " #   Column           Non-Null Count  Dtype \n",
            "---  ------           --------------  ----- \n",
            " 0   image_filepaths  3064 non-null   object\n",
            " 1   tumor_class      3064 non-null   object\n",
            "dtypes: object(2)\n",
            "memory usage: 48.0+ KB\n"
          ]
        }
      ]
    },
    {
      "cell_type": "code",
      "metadata": {
        "id": "D0NgLV0LvBsf"
      },
      "source": [
        "intermediate_train_data, test_data = train_test_split(image_data_paths_df, \n",
        "                                                      train_size = 0.70, \n",
        "                                                      random_state = 42, \n",
        "                                                      stratify = image_data_paths_df.tumor_class)\n",
        " \n",
        "train_data, validation_data = train_test_split(intermediate_train_data, \n",
        "                                               train_size = 0.80, \n",
        "                                               random_state = 42, \n",
        "                                               stratify = intermediate_train_data.tumor_class)"
      ],
      "execution_count": 53,
      "outputs": []
    },
    {
      "cell_type": "markdown",
      "metadata": {
        "id": "CJgD4V3GNZjW"
      },
      "source": [
        "### **6.1 Training, Validation and Testing Dataset Data Distribution Visualization**"
      ]
    },
    {
      "cell_type": "code",
      "metadata": {
        "colab": {
          "base_uri": "https://localhost:8080/",
          "height": 308
        },
        "id": "ayIe4k7FwDpo",
        "outputId": "330c2dd3-d769-46ea-b8c6-f52782572ab9"
      },
      "source": [
        "fig, axes = plt.subplots(ncols = 3, figsize = (20, 5))\n",
        "fig.suptitle(\"Distribution of Training/Validation/Testing Data\", fontsize = 16, fontdict = dict(weight = 'bold'), y = 1.05)\n",
        "sns.countplot(x = train_data.tumor_class, order = TUMOR_CLASS, ax = axes[0])\n",
        "sns.countplot(x = validation_data.tumor_class, order = TUMOR_CLASS, ax = axes[1])\n",
        "sns.countplot(x = test_data.tumor_class, order = TUMOR_CLASS, ax = axes[2])\n",
        "for curr_axis, curr_title in zip(axes, ['Train Data', 'Validation Data', 'Test Data']):\n",
        "    curr_axis.grid(False, alpha = 0.1)\n",
        "    curr_axis.set_title(curr_title, fontsize = 12)\n",
        "    curr_axis.set_xlabel(\"Tumor Classes\", fontsize = 12)\n",
        "    curr_axis.set_ylabel(\"Total Observations\", fontsize = 12)\n",
        "    curr_axis.tick_params(which = 'major', labelsize = 12)\n",
        "    curr_axis.set_xticklabels([\"\\n\".join(xtick.split(\"_\")).title() for xtick in TUMOR_CLASS])\n",
        "sns.despine()"
      ],
      "execution_count": 54,
      "outputs": [
        {
          "output_type": "display_data",
          "data": {
            "text/plain": [
              "<Figure size 1440x360 with 3 Axes>"
            ],
            "image/png": "[encoded data removed]"
          },
          "metadata": {
            "needs_background": "light"
          }
        }
      ]
    },
    {
      "cell_type": "markdown",
      "metadata": {
        "id": "43nahGE8yjJ-"
      },
      "source": [
        "## **7. Data/Image Augmentation**\n",
        "* Image augmentation is usually used to increase the image dataset and also to make the network more robust against translation invariance. Image augmentation is defined as creating duplicates of the original image datasets by flipping, rotating, zooming, and adjusting brightness. \n",
        "\n",
        "* We will use data/image augmentation using `ImageDataGenerator` class to train the model on different types of combinations formed by rotation, flipping, changing the brightness etc of an image so as to increase our model accuracy."
      ]
    },
    {
      "cell_type": "code",
      "metadata": {
        "id": "3w5KDl17UX49"
      },
      "source": [
        "image_size = 128\n",
        "batch_size = 32\n",
        "\n",
        "image_datagen_kwargs = dict(rescale = 1 / 255,\n",
        "                            rotation_range = 15, \n",
        "                            width_shift_range = 0.1, \n",
        "                            zoom_range = 0.01, \n",
        "                            shear_range = 0.01,\n",
        "                            brightness_range = [0.3, 1.5],\n",
        "                            horizontal_flip = True,\n",
        "                            vertical_flip = True)"
      ],
      "execution_count": 55,
      "outputs": []
    },
    {
      "cell_type": "code",
      "metadata": {
        "id": "cwsd1D3DwgKx"
      },
      "source": [
        "train_image_datagen = ImageDataGenerator(**image_datagen_kwargs)\n",
        "validation_image_datagen = ImageDataGenerator(**image_datagen_kwargs)\n",
        "test_image_datagen = ImageDataGenerator(**image_datagen_kwargs)"
      ],
      "execution_count": 56,
      "outputs": []
    },
    {
      "cell_type": "code",
      "metadata": {
        "colab": {
          "base_uri": "https://localhost:8080/"
        },
        "id": "pN5rSeDXw89O",
        "outputId": "e2ffd124-2a71-4b49-fa12-fdb0ff5c47e4"
      },
      "source": [
        "train_dataset = train_image_datagen.flow_from_dataframe(train_data, \n",
        "                                                        x_col = 'image_filepaths', \n",
        "                                                        y_col = 'tumor_class', \n",
        "                                                        seed = 42, \n",
        "                                                        batch_size = batch_size,\n",
        "                                                        target_size = (image_size, image_size),\n",
        "                                                        color_mode = 'rgb')\n",
        "validation_dataset = validation_image_datagen.flow_from_dataframe(validation_data, \n",
        "                                                                  x_col = 'image_filepaths', \n",
        "                                                                  y_col = 'tumor_class', \n",
        "                                                                  seed = 42,\n",
        "                                                                  batch_size = batch_size, \n",
        "                                                                  target_size = (image_size, image_size),\n",
        "                                                                  color_mode = 'rgb')\n",
        "test_dataset = test_image_datagen.flow_from_dataframe(test_data, \n",
        "                                                      x_col = 'image_filepaths', \n",
        "                                                      y_col = 'tumor_class', \n",
        "                                                      seed = 42, \n",
        "                                                      batch_size = batch_size,\n",
        "                                                      target_size = (image_size, image_size),\n",
        "                                                      color_mode = 'rgb')"
      ],
      "execution_count": 57,
      "outputs": [
        {
          "output_type": "stream",
          "name": "stdout",
          "text": [
            "Found 1715 validated image filenames belonging to 3 classes.\n",
            "Found 429 validated image filenames belonging to 3 classes.\n",
            "Found 920 validated image filenames belonging to 3 classes.\n"
          ]
        }
      ]
    },
    {
      "cell_type": "markdown",
      "metadata": {
        "id": "9B8gfd_4gdcZ"
      },
      "source": [
        "## **8. Model Development**"
      ]
    },
    {
      "cell_type": "code",
      "metadata": {
        "id": "tG1yxOksUGsh"
      },
      "source": [
        "early_stopping = EarlyStopping(monitor = 'val_accuracy', patience = 10)"
      ],
      "execution_count": 59,
      "outputs": []
    },
    {
      "cell_type": "code",
      "metadata": {
        "id": "tv8oR0WTjf32"
      },
      "source": [
        "def training_process_viz(training_stats: pd.DataFrame, **plot_kwargs) -> None:\n",
        "    fig, axes = plt.subplots(ncols = 2, figsize = (15, 5))\n",
        "    fig.suptitle(plot_kwargs['plot_title'], fontsize = 16, fontdict = dict(weight = 'bold'), y = 1.08)\n",
        "    for curr_axis, col_name in zip(axes, ['accuracy', 'loss']):\n",
        "        curr_axis.grid(True, alpha = 0.3)\n",
        "        curr_axis.set_title(f\"Model {col_name}\".title(), fontsize = 14)\n",
        "        sns.lineplot(x = range(1, 1 + training_stats.shape[0]), y = training_stats[col_name], color = 'blue', ax = curr_axis)\n",
        "        sns.lineplot(x = range(1, 1 + training_stats.shape[0]), y = training_stats[f\"val_{col_name}\"], color = 'red', ax = curr_axis)\n",
        "        curr_axis.set_xlabel(\"Epochs\", fontsize = 12)\n",
        "        curr_axis.set_ylabel(col_name.title(), fontsize = 12)\n",
        "        curr_axis.tick_params(which = 'major', labelsize = 12)\n",
        "        curr_axis.legend([col_name.title(), f\"validation {col_name}\".title()], title = col_name.title())\n",
        "    fig.tight_layout()\n",
        "    sns.despine()"
      ],
      "execution_count": 62,
      "outputs": []
    },
    {
      "cell_type": "code",
      "metadata": {
        "id": "r4dcEUM6Hdz3"
      },
      "source": [
        "def generate_report(*models, test_dataset, row_indexes) -> pd.DataFrame:\n",
        "    assert len(models)\n",
        "    report_df = pd.DataFrame(columns = ['Loss', 'Accuracy','Precison','Recall', 'F1-Score'])\n",
        "    y_hat = test_dataset.classes # y_hat = ground_truth\n",
        "    for curr_index, curr_model in enumerate(models):\n",
        "        assert isinstance(curr_model, Sequential)\n",
        "        curr_model_loss, curr_model_accuracy = curr_model.evaluate(test_dataset)\n",
        "        y_preds = [np.argmax(curr_preds) for curr_preds in curr_model.predict(test_dataset)]\n",
        "        report_df.loc[curr_index] = [ curr_model_loss, curr_model_accuracy,precision_score(y_hat, y_preds, average = \"micro\"),recall_score(y_hat, y_preds, average = \"micro\"), f1_score(y_hat, y_preds, average = \"micro\")]\n",
        "    report_df.index = row_indexes\n",
        "    return report_df"
      ],
      "execution_count": 71,
      "outputs": []
    },
    {
      "cell_type": "markdown",
      "metadata": {
        "id": "UVAWNsIx-2VC"
      },
      "source": [
        "### **8.1 ResNet**"
      ]
    },
    {
      "cell_type": "markdown",
      "metadata": {
        "id": "-UK4TWURPUrM"
      },
      "source": [
        "#### **8.1.1 Developement of ResNet**"
      ]
    },
    {
      "cell_type": "code",
      "source": [
        "# base_model = tf.keras.applications.ResNet152(weights = 'imagenet', include_top = False, input_shape = (32,32,3))\n",
        "# for layer in base_model.layers:\n",
        "#   layer.trainable = False\n",
        "# x = layers.Flatten()(base_model.output)\n",
        "# x = layers.Dense(1000, activation='relu')(x)\n",
        "# predictions = layers.Dense(10, activation = 'softmax')(x)\n",
        "# head_model = Model(inputs = base_model.input, outputs = predictions)\n",
        "# head_model.compile(optimizer='adam', loss=losses.sparse_categorical_crossentropy, metrics=['accuracy'])\n",
        "# history = head_model.fit(x_train, y_train, batch_size=64, epochs=40, validation_data=(x_val, y_val))"
      ],
      "metadata": {
        "id": "B-vq1_C8t9mq"
      },
      "execution_count": null,
      "outputs": []
    },
    {
      "cell_type": "code",
      "metadata": {
        "id": "GiJ8wU7g9QFY",
        "colab": {
          "base_uri": "https://localhost:8080/"
        },
        "outputId": "a59cc215-7f19-4a31-dd17-edf61e67e13f"
      },
      "source": [
        "from tensorflow.keras.applications.resnet50 import ResNet50\n",
        "resnet_model = ResNet50(weights = 'imagenet',include_top = False, \n",
        "                                 input_shape = (image_size, image_size, 3))\n",
        "resnet_model.trainable = False"
      ],
      "execution_count": null,
      "outputs": [
        {
          "output_type": "stream",
          "text": [
            "Downloading data from https://storage.googleapis.com/tensorflow/keras-applications/inception_v3/inception_v3_weights_tf_dim_ordering_tf_kernels_notop.h5\n",
            "87916544/87910968 [==============================] - 1s 0us/step\n"
          ],
          "name": "stdout"
        }
      ]
    },
    {
      "cell_type": "code",
      "metadata": {
        "id": "S2qLkKrS_G7o",
        "colab": {
          "base_uri": "https://localhost:8080/"
        },
        "outputId": "341b9213-2dc3-4541-bf7c-52dcc1b6b37e"
      },
      "source": [
        "resnet_cnn_model = Sequential()\n",
        "resnet_cnn_model.add(inception_v3_model)\n",
        "resnet_cnn_model.add(Flatten())\n",
        "resnet_cnn_model.add(Dense(1024, activation = 'relu', name = 'Hidden-Layer-1'))\n",
        "resnet_cnn_model.add(Dense(4, activation = 'softmax', name = 'Output-Layer'))\n",
        "resnet_cnn_model.compile(optimizer = 'Adam', loss = 'categorical_crossentropy', metrics = ['accuracy'])\n",
        "resnet_cnn_model.summary()"
      ],
      "execution_count": null,
      "outputs": [
        {
          "output_type": "stream",
          "text": [
            "Model: \"sequential_2\"\n",
            "_________________________________________________________________\n",
            "Layer (type)                 Output Shape              Param #   \n",
            "=================================================================\n",
            "inception_v3 (Functional)    (None, 2048)              21802784  \n",
            "_________________________________________________________________\n",
            "flatten (Flatten)            (None, 2048)              0         \n",
            "_________________________________________________________________\n",
            "Hidden-Layer-1 (Dense)       (None, 1024)              2098176   \n",
            "_________________________________________________________________\n",
            "Output-Layer (Dense)         (None, 4)                 4100      \n",
            "=================================================================\n",
            "Total params: 23,905,060\n",
            "Trainable params: 2,102,276\n",
            "Non-trainable params: 21,802,784\n",
            "_________________________________________________________________\n"
          ],
          "name": "stdout"
        }
      ]
    },
    {
      "cell_type": "markdown",
      "metadata": {
        "id": "7YjICUL_PeXQ"
      },
      "source": [
        "#### **8.1.2 Training and Validation of Resnet Model**"
      ]
    },
    {
      "cell_type": "code",
      "metadata": {
        "id": "udH_4tGvLr5q",
        "colab": {
          "base_uri": "https://localhost:8080/"
        },
        "outputId": "c8f7fdc7-9a69-4c4b-ae31-4f6608d67268"
      },
      "source": [
        "inception_model_train_history = resnet_cnn_model.fit(train_dataset, \n",
        "                                                            batch_size = batch_size,\n",
        "                                                            validation_data = validation_dataset, \n",
        "                                                            epochs = 200, \n",
        "                                                            callbacks = [early_stopping])"
      ],
      "execution_count": null,
      "outputs": [
        {
          "output_type": "stream",
          "text": [
            "Epoch 1/100\n",
            "61/61 [==============================] - 83s 1s/step - loss: 1.8779 - accuracy: 0.6012 - val_loss: 0.7379 - val_accuracy: 0.7113\n",
            "\n",
            "Epoch 00001: saving model to gdrive/MyDrive/Deep_Learning_Course_Project/Model-Checkpoints/InceptionV3\n",
            "Epoch 2/100\n",
            "61/61 [==============================] - 76s 1s/step - loss: 0.6863 - accuracy: 0.7335 - val_loss: 0.6218 - val_accuracy: 0.7979\n",
            "\n",
            "Epoch 00002: saving model to gdrive/MyDrive/Deep_Learning_Course_Project/Model-Checkpoints/InceptionV3\n",
            "Epoch 3/100\n",
            "61/61 [==============================] - 76s 1s/step - loss: 0.6144 - accuracy: 0.7670 - val_loss: 0.6042 - val_accuracy: 0.7835\n",
            "\n",
            "Epoch 00003: saving model to gdrive/MyDrive/Deep_Learning_Course_Project/Model-Checkpoints/InceptionV3\n",
            "Epoch 4/100\n",
            "61/61 [==============================] - 76s 1s/step - loss: 0.5593 - accuracy: 0.7774 - val_loss: 0.8480 - val_accuracy: 0.6536\n",
            "\n",
            "Epoch 00004: saving model to gdrive/MyDrive/Deep_Learning_Course_Project/Model-Checkpoints/InceptionV3\n",
            "Epoch 5/100\n",
            "61/61 [==============================] - 76s 1s/step - loss: 0.5345 - accuracy: 0.7887 - val_loss: 0.5721 - val_accuracy: 0.7732\n",
            "\n",
            "Epoch 00005: saving model to gdrive/MyDrive/Deep_Learning_Course_Project/Model-Checkpoints/InceptionV3\n",
            "Epoch 6/100\n",
            "61/61 [==============================] - 75s 1s/step - loss: 0.4957 - accuracy: 0.8135 - val_loss: 0.6748 - val_accuracy: 0.7485\n",
            "\n",
            "Epoch 00006: saving model to gdrive/MyDrive/Deep_Learning_Course_Project/Model-Checkpoints/InceptionV3\n",
            "Epoch 7/100\n",
            "61/61 [==============================] - 75s 1s/step - loss: 0.4660 - accuracy: 0.8156 - val_loss: 0.5046 - val_accuracy: 0.8000\n",
            "\n",
            "Epoch 00007: saving model to gdrive/MyDrive/Deep_Learning_Course_Project/Model-Checkpoints/InceptionV3\n",
            "Epoch 8/100\n",
            "61/61 [==============================] - 75s 1s/step - loss: 0.4784 - accuracy: 0.8171 - val_loss: 0.6136 - val_accuracy: 0.7649\n",
            "\n",
            "Epoch 00008: saving model to gdrive/MyDrive/Deep_Learning_Course_Project/Model-Checkpoints/InceptionV3\n",
            "Epoch 9/100\n",
            "61/61 [==============================] - 75s 1s/step - loss: 0.4769 - accuracy: 0.8032 - val_loss: 0.5283 - val_accuracy: 0.7876\n",
            "\n",
            "Epoch 00009: saving model to gdrive/MyDrive/Deep_Learning_Course_Project/Model-Checkpoints/InceptionV3\n",
            "Epoch 10/100\n",
            "61/61 [==============================] - 75s 1s/step - loss: 0.4529 - accuracy: 0.8223 - val_loss: 0.5484 - val_accuracy: 0.8000\n",
            "\n",
            "Epoch 00010: saving model to gdrive/MyDrive/Deep_Learning_Course_Project/Model-Checkpoints/InceptionV3\n",
            "Epoch 11/100\n",
            "61/61 [==============================] - 75s 1s/step - loss: 0.4472 - accuracy: 0.8275 - val_loss: 0.4995 - val_accuracy: 0.8062\n",
            "\n",
            "Epoch 00011: saving model to gdrive/MyDrive/Deep_Learning_Course_Project/Model-Checkpoints/InceptionV3\n",
            "Epoch 12/100\n",
            "61/61 [==============================] - 75s 1s/step - loss: 0.3815 - accuracy: 0.8456 - val_loss: 0.5364 - val_accuracy: 0.7979\n",
            "\n",
            "Epoch 00012: saving model to gdrive/MyDrive/Deep_Learning_Course_Project/Model-Checkpoints/InceptionV3\n",
            "Epoch 13/100\n",
            "61/61 [==============================] - 75s 1s/step - loss: 0.4216 - accuracy: 0.8388 - val_loss: 0.5230 - val_accuracy: 0.7835\n",
            "\n",
            "Epoch 00013: saving model to gdrive/MyDrive/Deep_Learning_Course_Project/Model-Checkpoints/InceptionV3\n",
            "Epoch 14/100\n",
            "61/61 [==============================] - 75s 1s/step - loss: 0.4312 - accuracy: 0.8285 - val_loss: 0.5177 - val_accuracy: 0.7979\n",
            "\n",
            "Epoch 00014: saving model to gdrive/MyDrive/Deep_Learning_Course_Project/Model-Checkpoints/InceptionV3\n",
            "Epoch 15/100\n",
            "61/61 [==============================] - 75s 1s/step - loss: 0.3779 - accuracy: 0.8419 - val_loss: 0.5387 - val_accuracy: 0.7979\n",
            "\n",
            "Epoch 00015: saving model to gdrive/MyDrive/Deep_Learning_Course_Project/Model-Checkpoints/InceptionV3\n",
            "Epoch 16/100\n",
            "61/61 [==============================] - 74s 1s/step - loss: 0.3753 - accuracy: 0.8476 - val_loss: 0.5662 - val_accuracy: 0.7814\n",
            "\n",
            "Epoch 00016: saving model to gdrive/MyDrive/Deep_Learning_Course_Project/Model-Checkpoints/InceptionV3\n",
            "Epoch 17/100\n",
            "61/61 [==============================] - 75s 1s/step - loss: 0.3746 - accuracy: 0.8461 - val_loss: 0.5143 - val_accuracy: 0.7938\n",
            "\n",
            "Epoch 00017: saving model to gdrive/MyDrive/Deep_Learning_Course_Project/Model-Checkpoints/InceptionV3\n",
            "Epoch 18/100\n",
            "61/61 [==============================] - 74s 1s/step - loss: 0.3375 - accuracy: 0.8647 - val_loss: 0.5568 - val_accuracy: 0.7959\n",
            "\n",
            "Epoch 00018: saving model to gdrive/MyDrive/Deep_Learning_Course_Project/Model-Checkpoints/InceptionV3\n",
            "Epoch 19/100\n",
            "61/61 [==============================] - 74s 1s/step - loss: 0.3707 - accuracy: 0.8507 - val_loss: 0.4909 - val_accuracy: 0.8206\n",
            "\n",
            "Epoch 00019: saving model to gdrive/MyDrive/Deep_Learning_Course_Project/Model-Checkpoints/InceptionV3\n",
            "Epoch 20/100\n",
            "61/61 [==============================] - 75s 1s/step - loss: 0.3774 - accuracy: 0.8507 - val_loss: 0.6110 - val_accuracy: 0.7423\n",
            "\n",
            "Epoch 00020: saving model to gdrive/MyDrive/Deep_Learning_Course_Project/Model-Checkpoints/InceptionV3\n",
            "Epoch 21/100\n",
            "61/61 [==============================] - 75s 1s/step - loss: 0.3636 - accuracy: 0.8476 - val_loss: 0.5006 - val_accuracy: 0.7959\n",
            "\n",
            "Epoch 00021: saving model to gdrive/MyDrive/Deep_Learning_Course_Project/Model-Checkpoints/InceptionV3\n",
            "Epoch 22/100\n",
            "61/61 [==============================] - 74s 1s/step - loss: 0.3153 - accuracy: 0.8822 - val_loss: 0.4776 - val_accuracy: 0.8206\n",
            "\n",
            "Epoch 00022: saving model to gdrive/MyDrive/Deep_Learning_Course_Project/Model-Checkpoints/InceptionV3\n",
            "Epoch 23/100\n",
            "61/61 [==============================] - 75s 1s/step - loss: 0.3407 - accuracy: 0.8776 - val_loss: 0.4448 - val_accuracy: 0.8206\n",
            "\n",
            "Epoch 00023: saving model to gdrive/MyDrive/Deep_Learning_Course_Project/Model-Checkpoints/InceptionV3\n",
            "Epoch 24/100\n",
            "61/61 [==============================] - 75s 1s/step - loss: 0.3756 - accuracy: 0.8538 - val_loss: 0.4913 - val_accuracy: 0.8227\n",
            "\n",
            "Epoch 00024: saving model to gdrive/MyDrive/Deep_Learning_Course_Project/Model-Checkpoints/InceptionV3\n",
            "Epoch 25/100\n",
            "61/61 [==============================] - 75s 1s/step - loss: 0.3489 - accuracy: 0.8621 - val_loss: 0.5133 - val_accuracy: 0.8206\n",
            "\n",
            "Epoch 00025: saving model to gdrive/MyDrive/Deep_Learning_Course_Project/Model-Checkpoints/InceptionV3\n",
            "Epoch 26/100\n",
            "61/61 [==============================] - 74s 1s/step - loss: 0.3531 - accuracy: 0.8667 - val_loss: 0.6384 - val_accuracy: 0.7773\n",
            "\n",
            "Epoch 00026: saving model to gdrive/MyDrive/Deep_Learning_Course_Project/Model-Checkpoints/InceptionV3\n",
            "Epoch 27/100\n",
            "61/61 [==============================] - 75s 1s/step - loss: 0.3250 - accuracy: 0.8714 - val_loss: 0.4896 - val_accuracy: 0.8103\n",
            "\n",
            "Epoch 00027: saving model to gdrive/MyDrive/Deep_Learning_Course_Project/Model-Checkpoints/InceptionV3\n",
            "Epoch 28/100\n",
            "61/61 [==============================] - 75s 1s/step - loss: 0.3006 - accuracy: 0.8796 - val_loss: 0.4820 - val_accuracy: 0.8062\n",
            "\n",
            "Epoch 00028: saving model to gdrive/MyDrive/Deep_Learning_Course_Project/Model-Checkpoints/InceptionV3\n",
            "Epoch 29/100\n",
            "61/61 [==============================] - 75s 1s/step - loss: 0.3121 - accuracy: 0.8781 - val_loss: 0.5193 - val_accuracy: 0.8165\n",
            "\n",
            "Epoch 00029: saving model to gdrive/MyDrive/Deep_Learning_Course_Project/Model-Checkpoints/InceptionV3\n",
            "Epoch 30/100\n",
            "61/61 [==============================] - 75s 1s/step - loss: 0.3217 - accuracy: 0.8771 - val_loss: 0.6595 - val_accuracy: 0.7608\n",
            "\n",
            "Epoch 00030: saving model to gdrive/MyDrive/Deep_Learning_Course_Project/Model-Checkpoints/InceptionV3\n",
            "Epoch 31/100\n",
            "61/61 [==============================] - 75s 1s/step - loss: 0.3345 - accuracy: 0.8647 - val_loss: 0.5732 - val_accuracy: 0.7814\n",
            "\n",
            "Epoch 00031: saving model to gdrive/MyDrive/Deep_Learning_Course_Project/Model-Checkpoints/InceptionV3\n",
            "Epoch 32/100\n",
            "61/61 [==============================] - 75s 1s/step - loss: 0.3324 - accuracy: 0.8626 - val_loss: 0.5237 - val_accuracy: 0.7959\n",
            "\n",
            "Epoch 00032: saving model to gdrive/MyDrive/Deep_Learning_Course_Project/Model-Checkpoints/InceptionV3\n",
            "Epoch 33/100\n",
            "61/61 [==============================] - 75s 1s/step - loss: 0.2770 - accuracy: 0.8864 - val_loss: 0.6379 - val_accuracy: 0.7794\n",
            "\n",
            "Epoch 00033: saving model to gdrive/MyDrive/Deep_Learning_Course_Project/Model-Checkpoints/InceptionV3\n",
            "Epoch 34/100\n",
            "61/61 [==============================] - 75s 1s/step - loss: 0.2898 - accuracy: 0.8853 - val_loss: 0.4858 - val_accuracy: 0.7959\n",
            "\n",
            "Epoch 00034: saving model to gdrive/MyDrive/Deep_Learning_Course_Project/Model-Checkpoints/InceptionV3\n"
          ],
          "name": "stdout"
        }
      ]
    },
    {
      "cell_type": "markdown",
      "metadata": {
        "id": "LalVu3yjPlvK"
      },
      "source": [
        "#### **8.1.3 ResNet Model Training Process Statistics**"
      ]
    },
    {
      "cell_type": "code",
      "metadata": {
        "colab": {
          "base_uri": "https://localhost:8080/",
          "height": 409
        },
        "id": "73s0aJxw-BBr",
        "outputId": "ae791e31-be28-4442-dc16-8d1496173411"
      },
      "source": [
        "training_process_viz(pd.DataFrame(resnet_model_train_history.history), \n",
        "                     plot_title = 'ResNet Training Statistics')"
      ],
      "execution_count": null,
      "outputs": [
        {
          "output_type": "display_data",
          "data": {
            "image/png": "[encoded data removed]",
            "text/plain": [
              "<Figure size 1080x360 with 2 Axes>"
            ]
          },
          "metadata": {
            "tags": [],
            "needs_background": "light"
          }
        }
      ]
    },
    {
      "cell_type": "code",
      "metadata": {
        "colab": {
          "base_uri": "https://localhost:8080/",
          "height": 97
        },
        "id": "JXt_ZN3OOcd6",
        "outputId": "3e2e7e7a-5395-40dc-ba76-05d06b0595d6"
      },
      "source": [
        "resnet_report_df = generate_report(resnet_cnn_model, test_dataset = test_dataset, row_indexes = ['ResNet'])\n",
        "resnet_report_df"
      ],
      "execution_count": null,
      "outputs": [
        {
          "output_type": "stream",
          "text": [
            "33/33 [==============================] - 32s 962ms/step - loss: 0.4522 - accuracy: 0.8256\n"
          ],
          "name": "stdout"
        },
        {
          "output_type": "execute_result",
          "data": {
            "text/html": [
              "<div>\n",
              "<style scoped>\n",
              "    .dataframe tbody tr th:only-of-type {\n",
              "        vertical-align: middle;\n",
              "    }\n",
              "\n",
              "    .dataframe tbody tr th {\n",
              "        vertical-align: top;\n",
              "    }\n",
              "\n",
              "    .dataframe thead th {\n",
              "        text-align: right;\n",
              "    }\n",
              "</style>\n",
              "<table border=\"1\" class=\"dataframe\">\n",
              "  <thead>\n",
              "    <tr style=\"text-align: right;\">\n",
              "      <th></th>\n",
              "      <th>MAE</th>\n",
              "      <th>MSE</th>\n",
              "      <th>RMSE</th>\n",
              "      <th>Loss</th>\n",
              "      <th>Accuracy</th>\n",
              "      <th>F1-Score</th>\n",
              "    </tr>\n",
              "  </thead>\n",
              "  <tbody>\n",
              "    <tr>\n",
              "      <th>InceptionV3</th>\n",
              "      <td>1.365125</td>\n",
              "      <td>3.101156</td>\n",
              "      <td>1.76101</td>\n",
              "      <td>0.452249</td>\n",
              "      <td>0.825626</td>\n",
              "      <td>0.2842</td>\n",
              "    </tr>\n",
              "  </tbody>\n",
              "</table>\n",
              "</div>"
            ],
            "text/plain": [
              "                  MAE       MSE     RMSE      Loss  Accuracy  F1-Score\n",
              "InceptionV3  1.365125  3.101156  1.76101  0.452249  0.825626    0.2842"
            ]
          },
          "metadata": {
            "tags": []
          },
          "execution_count": 52
        }
      ]
    },
    {
      "cell_type": "markdown",
      "metadata": {
        "id": "plwQpnAi7vPL"
      },
      "source": [
        "### **8.2 AlexNet CNN**"
      ]
    },
    {
      "cell_type": "markdown",
      "metadata": {
        "id": "LZkoo_zqOzlR"
      },
      "source": [
        "#### **8.2.1 Develoment of AlexNet CNN Model**"
      ]
    },
    {
      "cell_type": "code",
      "metadata": {
        "colab": {
          "base_uri": "https://localhost:8080/"
        },
        "id": "XHiRgUn8r8eV",
        "outputId": "0fd75838-fbfc-4fa9-a703-b9b2a9fd83af"
      },
      "source": [
        "alexnet_cnn = Sequential()\n",
        "alexnet_cnn.add(Conv2D(96, kernel_size = 11, strides = 4, activation = 'relu', input_shape = (image_size, image_size, 3), name = 'Conv2D-1'))\n",
        "alexnet_cnn.add(BatchNormalization(name = 'Batch-Normalization-1'))\n",
        "alexnet_cnn.add(MaxPool2D(pool_size = 3, strides = 2, name = 'Max-Pooling-1'))\n",
        "alexnet_cnn.add(Conv2D(256, kernel_size = 5, padding = 'same', activation = 'relu', name = 'Conv2D-2'))\n",
        "alexnet_cnn.add(BatchNormalization(name = 'Batch-Normalization-2'))\n",
        "alexnet_cnn.add(MaxPool2D(pool_size = 3, strides = 2, name = 'Max-Pooling-2'))\n",
        "alexnet_cnn.add(Conv2D(384, kernel_size = 3, padding = 'same', activation = 'relu', name = 'Conv2D-3'))\n",
        "alexnet_cnn.add(BatchNormalization(name = 'Batch-Normalization-3'))\n",
        "alexnet_cnn.add(Conv2D(384, kernel_size = 3, padding = 'same', activation = 'relu', name = 'Conv2D-4'))\n",
        "alexnet_cnn.add(BatchNormalization(name = 'Batch-Normalization-4'))\n",
        "alexnet_cnn.add(Conv2D(256, kernel_size = 3, padding = 'same', activation = 'relu', name = 'Conv2D-5'))\n",
        "alexnet_cnn.add(BatchNormalization(name = 'Batch-Normalization-5'))\n",
        "alexnet_cnn.add(MaxPool2D(pool_size = 3, strides = 2, name = 'Max-Pooling-3'))\n",
        "alexnet_cnn.add(Flatten(name = 'Flatten-Layer-1'))\n",
        "alexnet_cnn.add(Dense(128, activation = 'relu', name = 'Hidden-Layer-1'))\n",
        "alexnet_cnn.add(Dropout(rate = 0.5, name = 'Dropout-Layer-1'))\n",
        "alexnet_cnn.add(Dense(64, activation = 'relu', name = 'Hidden-Layer-2'))\n",
        "alexnet_cnn.add(Dropout(rate = 0.5, name = 'Dropout-Layer-2'))\n",
        "alexnet_cnn.add(Dense(3, activation = 'softmax', name = 'Output-Layer'))\n",
        "alexnet_cnn.compile(optimizer = 'Adam', loss = 'categorical_crossentropy', metrics = ['accuracy'])\n",
        "alexnet_cnn.summary()"
      ],
      "execution_count": 74,
      "outputs": [
        {
          "output_type": "stream",
          "name": "stdout",
          "text": [
            "Model: \"sequential_2\"\n",
            "_________________________________________________________________\n",
            " Layer (type)                Output Shape              Param #   \n",
            "=================================================================\n",
            " Conv2D-1 (Conv2D)           (None, 30, 30, 96)        34944     \n",
            "                                                                 \n",
            " Batch-Normalization-1 (Batc  (None, 30, 30, 96)       384       \n",
            " hNormalization)                                                 \n",
            "                                                                 \n",
            " Max-Pooling-1 (MaxPooling2D  (None, 14, 14, 96)       0         \n",
            " )                                                               \n",
            "                                                                 \n",
            " Conv2D-2 (Conv2D)           (None, 14, 14, 256)       614656    \n",
            "                                                                 \n",
            " Batch-Normalization-2 (Batc  (None, 14, 14, 256)      1024      \n",
            " hNormalization)                                                 \n",
            "                                                                 \n",
            " Max-Pooling-2 (MaxPooling2D  (None, 6, 6, 256)        0         \n",
            " )                                                               \n",
            "                                                                 \n",
            " Conv2D-3 (Conv2D)           (None, 6, 6, 384)         885120    \n",
            "                                                                 \n",
            " Batch-Normalization-3 (Batc  (None, 6, 6, 384)        1536      \n",
            " hNormalization)                                                 \n",
            "                                                                 \n",
            " Conv2D-4 (Conv2D)           (None, 6, 6, 384)         1327488   \n",
            "                                                                 \n",
            " Batch-Normalization-4 (Batc  (None, 6, 6, 384)        1536      \n",
            " hNormalization)                                                 \n",
            "                                                                 \n",
            " Conv2D-5 (Conv2D)           (None, 6, 6, 256)         884992    \n",
            "                                                                 \n",
            " Batch-Normalization-5 (Batc  (None, 6, 6, 256)        1024      \n",
            " hNormalization)                                                 \n",
            "                                                                 \n",
            " Max-Pooling-3 (MaxPooling2D  (None, 2, 2, 256)        0         \n",
            " )                                                               \n",
            "                                                                 \n",
            " Flatten-Layer-1 (Flatten)   (None, 1024)              0         \n",
            "                                                                 \n",
            " Hidden-Layer-1 (Dense)      (None, 128)               131200    \n",
            "                                                                 \n",
            " Dropout-Layer-1 (Dropout)   (None, 128)               0         \n",
            "                                                                 \n",
            " Hidden-Layer-2 (Dense)      (None, 64)                8256      \n",
            "                                                                 \n",
            " Dropout-Layer-2 (Dropout)   (None, 64)                0         \n",
            "                                                                 \n",
            " Output-Layer (Dense)        (None, 3)                 195       \n",
            "                                                                 \n",
            "=================================================================\n",
            "Total params: 3,892,355\n",
            "Trainable params: 3,889,603\n",
            "Non-trainable params: 2,752\n",
            "_________________________________________________________________\n"
          ]
        }
      ]
    },
    {
      "cell_type": "markdown",
      "metadata": {
        "id": "h8PPBZpuO4ot"
      },
      "source": [
        "#### **8.2.2 Training and Validation of AlexNet CNN Model**"
      ]
    },
    {
      "cell_type": "code",
      "metadata": {
        "colab": {
          "base_uri": "https://localhost:8080/"
        },
        "id": "GwRU6DTALp0w",
        "outputId": "7ddebc50-b395-4086-ea0b-8f7b97c443d0"
      },
      "source": [
        "alexnet_train_history = alexnet_cnn.fit(train_dataset, \n",
        "                                            batch_size = batch_size,\n",
        "                                            validation_data = validation_dataset, \n",
        "                                            epochs = 100, \n",
        "                                            callbacks = [early_stopping])"
      ],
      "execution_count": null,
      "outputs": [
        {
          "output_type": "stream",
          "name": "stdout",
          "text": [
            "Epoch 1/100\n",
            "54/54 [==============================] - 65s 1s/step - loss: 1.9640 - accuracy: 0.3720 - val_loss: 3.7406 - val_accuracy: 0.3147\n",
            "Epoch 2/100\n",
            "54/54 [==============================] - 54s 998ms/step - loss: 1.2756 - accuracy: 0.3749 - val_loss: 1.0970 - val_accuracy: 0.4499\n",
            "Epoch 3/100\n",
            "54/54 [==============================] - 54s 1s/step - loss: 1.1679 - accuracy: 0.4029 - val_loss: 1.0631 - val_accuracy: 0.4662\n",
            "Epoch 4/100\n",
            "54/54 [==============================] - 55s 1s/step - loss: 1.1430 - accuracy: 0.4058 - val_loss: 1.0695 - val_accuracy: 0.3613\n",
            "Epoch 5/100\n",
            "54/54 [==============================] - 53s 984ms/step - loss: 1.1029 - accuracy: 0.4315 - val_loss: 1.0673 - val_accuracy: 0.4662\n",
            "Epoch 6/100\n",
            "54/54 [==============================] - 55s 1s/step - loss: 1.0870 - accuracy: 0.4536 - val_loss: 1.0639 - val_accuracy: 0.4662\n",
            "Epoch 7/100\n",
            "12/54 [=====>........................] - ETA: 36s - loss: 1.0809 - accuracy: 0.4818"
          ]
        }
      ]
    },
    {
      "cell_type": "markdown",
      "metadata": {
        "id": "10T_tD6hO_Ke"
      },
      "source": [
        "#### **8.2.3 AlexNet CNN Model Training Process Statistics**"
      ]
    },
    {
      "cell_type": "code",
      "metadata": {
        "id": "HUDrBcG8-vs5"
      },
      "source": [
        "training_process_viz(pd.DataFrame(alexnet_train_history.history), plot_title = 'AlexNet CNN Training Stats')"
      ],
      "execution_count": null,
      "outputs": []
    },
    {
      "cell_type": "code",
      "metadata": {
        "id": "606Z1mE0bSwY"
      },
      "source": [
        "alexnet_report_df = generate_report(alexnet_cnn, test_dataset = test_dataset, row_indexes = ['AlexNet CNN'])\n",
        "alexnet_report_df"
      ],
      "execution_count": null,
      "outputs": []
    },
    {
      "cell_type": "markdown",
      "metadata": {
        "id": "t0amnN1WhVC6"
      },
      "source": [
        "### **8.3 Multi-Layer Perceptron**"
      ]
    },
    {
      "cell_type": "markdown",
      "metadata": {
        "id": "vuqCK37HOOzN"
      },
      "source": [
        "#### **8.3.1 Development of Multi-Layer Perceptron Model**"
      ]
    },
    {
      "cell_type": "code",
      "metadata": {
        "colab": {
          "base_uri": "https://localhost:8080/"
        },
        "id": "RhmSS-3Qe2TA",
        "outputId": "03fec663-38cf-466b-8c44-a854a05edf0c"
      },
      "source": [
        "mlp_model = Sequential()\n",
        "mlp_model.add(Flatten(input_shape = (image_size, image_size, 3), name = 'Flatten-Layer'))\n",
        "mlp_model.add(Dense(2048, activation = 'relu', name = 'Hidden-Layer-1'))\n",
        "mlp_model.add(Dropout(rate = 0.2, name = 'Dropout-Layer-1'))\n",
        "mlp_model.add(Dense(1024, activation = 'relu', name = 'Hidden-Layer-2'))\n",
        "mlp_model.add(Dropout(rate = 0.2, name = 'Dropout-Layer-2'))\n",
        "mlp_model.add(Dense(512, activation = 'relu', name = 'Hidden-Layer-3'))\n",
        "mlp_model.add(Dropout(rate = 0.2, name = 'Dropout-Layer-3'))\n",
        "mlp_model.add(Dense(3, activation = 'softmax', name = 'Output-Layer-1'))\n",
        "mlp_model.compile(optimizer = 'Adam', loss = 'categorical_crossentropy', metrics = ['accuracy'])\n",
        "mlp_model.summary()"
      ],
      "execution_count": null,
      "outputs": [
        {
          "output_type": "stream",
          "name": "stdout",
          "text": [
            "Model: \"sequential_1\"\n",
            "_________________________________________________________________\n",
            " Layer (type)                Output Shape              Param #   \n",
            "=================================================================\n",
            " Flatten-Layer (Flatten)     (None, 49152)             0         \n",
            "                                                                 \n",
            " Hidden-Layer-1 (Dense)      (None, 2048)              100665344 \n",
            "                                                                 \n",
            " Dropout-Layer-1 (Dropout)   (None, 2048)              0         \n",
            "                                                                 \n",
            " Hidden-Layer-2 (Dense)      (None, 1024)              2098176   \n",
            "                                                                 \n",
            " Dropout-Layer-2 (Dropout)   (None, 1024)              0         \n",
            "                                                                 \n",
            " Hidden-Layer-3 (Dense)      (None, 512)               524800    \n",
            "                                                                 \n",
            " Dropout-Layer-3 (Dropout)   (None, 512)               0         \n",
            "                                                                 \n",
            " Output-Layer-1 (Dense)      (None, 3)                 1539      \n",
            "                                                                 \n",
            "=================================================================\n",
            "Total params: 103,289,859\n",
            "Trainable params: 103,289,859\n",
            "Non-trainable params: 0\n",
            "_________________________________________________________________\n"
          ]
        }
      ]
    },
    {
      "cell_type": "markdown",
      "metadata": {
        "id": "szJHcRmDODTD"
      },
      "source": [
        "#### **8.3.2 Training and Validation of Multi-Layer Perceptron Based Model**"
      ]
    },
    {
      "cell_type": "code",
      "metadata": {
        "id": "Cnt8HTzsh-rs",
        "colab": {
          "base_uri": "https://localhost:8080/"
        },
        "outputId": "6b74b7a2-7776-4b1b-ba97-6ecac4f09635"
      },
      "source": [
        "mlp_train_history = mlp_model.fit(train_dataset,\n",
        "                                      batch_size = batch_size,\n",
        "                                      validation_data = validation_dataset,\n",
        "                                      epochs = 100, \n",
        "                                      callbacks = [early_stopping])"
      ],
      "execution_count": null,
      "outputs": [
        {
          "output_type": "stream",
          "name": "stdout",
          "text": [
            "Epoch 1/100\n",
            "54/54 [==============================] - 100s 1000ms/step - loss: 14.5093 - accuracy: 0.3662 - val_loss: 1.0968 - val_accuracy: 0.3030\n",
            "Epoch 2/100\n",
            "54/54 [==============================] - 55s 1s/step - loss: 1.1451 - accuracy: 0.4117 - val_loss: 1.0660 - val_accuracy: 0.4662\n",
            "Epoch 3/100\n",
            "54/54 [==============================] - 53s 993ms/step - loss: 1.0956 - accuracy: 0.4344 - val_loss: 1.0906 - val_accuracy: 0.4662\n",
            "Epoch 4/100\n",
            "54/54 [==============================] - 55s 1s/step - loss: 1.0682 - accuracy: 0.4653 - val_loss: 1.0561 - val_accuracy: 0.4662\n",
            "Epoch 5/100\n",
            "54/54 [==============================] - 53s 981ms/step - loss: 1.0578 - accuracy: 0.4653 - val_loss: 1.0560 - val_accuracy: 0.4662\n",
            "Epoch 6/100\n",
            "54/54 [==============================] - 55s 1s/step - loss: 1.0578 - accuracy: 0.4653 - val_loss: 1.0560 - val_accuracy: 0.4662\n",
            "Epoch 7/100\n",
            "54/54 [==============================] - 53s 985ms/step - loss: 1.0570 - accuracy: 0.4653 - val_loss: 1.0560 - val_accuracy: 0.4662\n",
            "Epoch 8/100\n",
            "54/54 [==============================] - 52s 960ms/step - loss: 1.0590 - accuracy: 0.4653 - val_loss: 1.0560 - val_accuracy: 0.4662\n",
            "Epoch 9/100\n",
            "54/54 [==============================] - 55s 1s/step - loss: 1.0581 - accuracy: 0.4653 - val_loss: 1.0561 - val_accuracy: 0.4662\n",
            "Epoch 10/100\n",
            "54/54 [==============================] - 60s 1s/step - loss: 1.0574 - accuracy: 0.4653 - val_loss: 1.0561 - val_accuracy: 0.4662\n",
            "Epoch 11/100\n",
            "54/54 [==============================] - 56s 1s/step - loss: 1.0582 - accuracy: 0.4653 - val_loss: 1.0567 - val_accuracy: 0.4662\n",
            "Epoch 12/100\n",
            "54/54 [==============================] - 56s 1s/step - loss: 1.0574 - accuracy: 0.4653 - val_loss: 1.0560 - val_accuracy: 0.4662\n"
          ]
        }
      ]
    },
    {
      "cell_type": "markdown",
      "metadata": {
        "id": "b_sWTx4-OWGo"
      },
      "source": [
        "#### **8.3.3 Multi-Layer Perceptron Based Model Training Process Statistics**"
      ]
    },
    {
      "cell_type": "code",
      "metadata": {
        "id": "9qUbIlzKwo-V",
        "colab": {
          "base_uri": "https://localhost:8080/",
          "height": 330
        },
        "outputId": "ba236dc3-6d5b-43fc-a3ac-fa5a20f06f80"
      },
      "source": [
        "training_process_viz(pd.DataFrame(mlp_train_history.history), \n",
        "                     plot_title = 'Multilayer Perceptron Training Statistics')"
      ],
      "execution_count": null,
      "outputs": [
        {
          "output_type": "display_data",
          "data": {
            "text/plain": [
              "<Figure size 1080x360 with 2 Axes>"
            ],
            "image/png": "[encoded data removed]"
          },
          "metadata": {
            "needs_background": "light"
          }
        }
      ]
    },
    {
      "cell_type": "code",
      "metadata": {
        "colab": {
          "base_uri": "https://localhost:8080/",
          "height": 115
        },
        "id": "1-Vg-CJnFCAa",
        "outputId": "07a8eb22-e4c8-47bb-9183-4c85b1c6a646"
      },
      "source": [
        "mlp_report_df = generate_report(mlp_model, \n",
        "                                test_dataset = test_dataset, \n",
        "                                row_indexes = (\"Multi-Layer-Perceptron Model\",))\n",
        "mlp_report_df"
      ],
      "execution_count": null,
      "outputs": [
        {
          "output_type": "stream",
          "name": "stdout",
          "text": [
            "29/29 [==============================] - 24s 817ms/step - loss: 1.0566 - accuracy: 0.4652\n",
            "29/29 [==============================] - 22s 764ms/step\n"
          ]
        },
        {
          "output_type": "execute_result",
          "data": {
            "text/plain": [
              "                                  Loss  Accuracy  Precison    Recall  F1-Score\n",
              "Multi-Layer-Perceptron Model  1.056622  0.465217  0.465217  0.465217  0.465217"
            ],
            "text/html": [
              "\n",
              "  <div id=\"df-864d94d1-ead3-4864-834d-aa8d6dd57df5\">\n",
              "    <div class=\"colab-df-container\">\n",
              "      <div>\n",
              "<style scoped>\n",
              "    .dataframe tbody tr th:only-of-type {\n",
              "        vertical-align: middle;\n",
              "    }\n",
              "\n",
              "    .dataframe tbody tr th {\n",
              "        vertical-align: top;\n",
              "    }\n",
              "\n",
              "    .dataframe thead th {\n",
              "        text-align: right;\n",
              "    }\n",
              "</style>\n",
              "<table border=\"1\" class=\"dataframe\">\n",
              "  <thead>\n",
              "    <tr style=\"text-align: right;\">\n",
              "      <th></th>\n",
              "      <th>Loss</th>\n",
              "      <th>Accuracy</th>\n",
              "      <th>Precison</th>\n",
              "      <th>Recall</th>\n",
              "      <th>F1-Score</th>\n",
              "    </tr>\n",
              "  </thead>\n",
              "  <tbody>\n",
              "    <tr>\n",
              "      <th>Multi-Layer-Perceptron Model</th>\n",
              "      <td>1.056622</td>\n",
              "      <td>0.465217</td>\n",
              "      <td>0.465217</td>\n",
              "      <td>0.465217</td>\n",
              "      <td>0.465217</td>\n",
              "    </tr>\n",
              "  </tbody>\n",
              "</table>\n",
              "</div>\n",
              "      <button class=\"colab-df-convert\" onclick=\"convertToInteractive('df-864d94d1-ead3-4864-834d-aa8d6dd57df5')\"\n",
              "              title=\"Convert this dataframe to an interactive table.\"\n",
              "              style=\"display:none;\">\n",
              "        \n",
              "  <svg xmlns=\"http://www.w3.org/2000/svg\" height=\"24px\"viewBox=\"0 0 24 24\"\n",
              "       width=\"24px\">\n",
              "    <path d=\"M0 0h24v24H0V0z\" fill=\"none\"/>\n",
              "    <path d=\"M18.56 5.44l.94 2.06.94-2.06 2.06-.94-2.06-.94-.94-2.06-.94 2.06-2.06.94zm-11 1L8.5 8.5l.94-2.06 2.06-.94-2.06-.94L8.5 2.5l-.94 2.06-2.06.94zm10 10l.94 2.06.94-2.06 2.06-.94-2.06-.94-.94-2.06-.94 2.06-2.06.94z\"/><path d=\"M17.41 7.96l-1.37-1.37c-.4-.4-.92-.59-1.43-.59-.52 0-1.04.2-1.43.59L10.3 9.45l-7.72 7.72c-.78.78-.78 2.05 0 2.83L4 21.41c.39.39.9.59 1.41.59.51 0 1.02-.2 1.41-.59l7.78-7.78 2.81-2.81c.8-.78.8-2.07 0-2.86zM5.41 20L4 18.59l7.72-7.72 1.47 1.35L5.41 20z\"/>\n",
              "  </svg>\n",
              "      </button>\n",
              "      \n",
              "  <style>\n",
              "    .colab-df-container {\n",
              "      display:flex;\n",
              "      flex-wrap:wrap;\n",
              "      gap: 12px;\n",
              "    }\n",
              "\n",
              "    .colab-df-convert {\n",
              "      background-color: #E8F0FE;\n",
              "      border: none;\n",
              "      border-radius: 50%;\n",
              "      cursor: pointer;\n",
              "      display: none;\n",
              "      fill: #1967D2;\n",
              "      height: 32px;\n",
              "      padding: 0 0 0 0;\n",
              "      width: 32px;\n",
              "    }\n",
              "\n",
              "    .colab-df-convert:hover {\n",
              "      background-color: #E2EBFA;\n",
              "      box-shadow: 0px 1px 2px rgba(60, 64, 67, 0.3), 0px 1px 3px 1px rgba(60, 64, 67, 0.15);\n",
              "      fill: #174EA6;\n",
              "    }\n",
              "\n",
              "    [theme=dark] .colab-df-convert {\n",
              "      background-color: #3B4455;\n",
              "      fill: #D2E3FC;\n",
              "    }\n",
              "\n",
              "    [theme=dark] .colab-df-convert:hover {\n",
              "      background-color: #434B5C;\n",
              "      box-shadow: 0px 1px 3px 1px rgba(0, 0, 0, 0.15);\n",
              "      filter: drop-shadow(0px 1px 2px rgba(0, 0, 0, 0.3));\n",
              "      fill: #FFFFFF;\n",
              "    }\n",
              "  </style>\n",
              "\n",
              "      <script>\n",
              "        const buttonEl =\n",
              "          document.querySelector('#df-864d94d1-ead3-4864-834d-aa8d6dd57df5 button.colab-df-convert');\n",
              "        buttonEl.style.display =\n",
              "          google.colab.kernel.accessAllowed ? 'block' : 'none';\n",
              "\n",
              "        async function convertToInteractive(key) {\n",
              "          const element = document.querySelector('#df-864d94d1-ead3-4864-834d-aa8d6dd57df5');\n",
              "          const dataTable =\n",
              "            await google.colab.kernel.invokeFunction('convertToInteractive',\n",
              "                                                     [key], {});\n",
              "          if (!dataTable) return;\n",
              "\n",
              "          const docLinkHtml = 'Like what you see? Visit the ' +\n",
              "            '<a target=\"_blank\" href=https://colab.research.google.com/notebooks/data_table.ipynb>data table notebook</a>'\n",
              "            + ' to learn more about interactive tables.';\n",
              "          element.innerHTML = '';\n",
              "          dataTable['output_type'] = 'display_data';\n",
              "          await google.colab.output.renderOutput(dataTable, element);\n",
              "          const docLink = document.createElement('div');\n",
              "          docLink.innerHTML = docLinkHtml;\n",
              "          element.appendChild(docLink);\n",
              "        }\n",
              "      </script>\n",
              "    </div>\n",
              "  </div>\n",
              "  "
            ]
          },
          "metadata": {},
          "execution_count": 73
        }
      ]
    },
    {
      "cell_type": "markdown",
      "metadata": {
        "id": "nobbz__oKJgb"
      },
      "source": [
        "## **9. Conclusions**"
      ]
    },
    {
      "cell_type": "markdown",
      "metadata": {
        "id": "m5c477E3pncE"
      },
      "source": [
        "* The **pre-trained (imagenet) ResNet** model has performed the best among Multi-Layer perceptron and AlexNet CNN models with an accuracy of $82.57\\%$ "
      ]
    },
    {
      "cell_type": "code",
      "metadata": {
        "id": "IGMxX9bNuOoy",
        "colab": {
          "base_uri": "https://localhost:8080/",
          "height": 142
        },
        "outputId": "2c863e2e-2903-45fd-94a9-79005c2df70d"
      },
      "source": [
        "final_report_df = pd.concat([mlp_report_df, alexnet_report_df, resnet_report_df])\n",
        "final_report_df"
      ],
      "execution_count": null,
      "outputs": [
        {
          "output_type": "execute_result",
          "data": {
            "text/html": [
              "<div>\n",
              "<style scoped>\n",
              "    .dataframe tbody tr th:only-of-type {\n",
              "        vertical-align: middle;\n",
              "    }\n",
              "\n",
              "    .dataframe tbody tr th {\n",
              "        vertical-align: top;\n",
              "    }\n",
              "\n",
              "    .dataframe thead th {\n",
              "        text-align: right;\n",
              "    }\n",
              "</style>\n",
              "<table border=\"1\" class=\"dataframe\">\n",
              "  <thead>\n",
              "    <tr style=\"text-align: right;\">\n",
              "      <th></th>\n",
              "      <th>MAE</th>\n",
              "      <th>MSE</th>\n",
              "      <th>RMSE</th>\n",
              "      <th>Loss</th>\n",
              "      <th>Accuracy</th>\n",
              "      <th>F1-Score</th>\n",
              "    </tr>\n",
              "  </thead>\n",
              "  <tbody>\n",
              "    <tr>\n",
              "      <th>Multi-Layer-Perceptron Model</th>\n",
              "      <td>1.394990</td>\n",
              "      <td>3.533719</td>\n",
              "      <td>1.879819</td>\n",
              "      <td>0.926313</td>\n",
              "      <td>0.624277</td>\n",
              "      <td>0.368979</td>\n",
              "    </tr>\n",
              "    <tr>\n",
              "      <th>AlexNet CNN</th>\n",
              "      <td>1.301541</td>\n",
              "      <td>3.205202</td>\n",
              "      <td>1.790308</td>\n",
              "      <td>1.135692</td>\n",
              "      <td>0.607900</td>\n",
              "      <td>0.382466</td>\n",
              "    </tr>\n",
              "    <tr>\n",
              "      <th>InceptionV3</th>\n",
              "      <td>1.365125</td>\n",
              "      <td>3.101156</td>\n",
              "      <td>1.761010</td>\n",
              "      <td>0.452249</td>\n",
              "      <td>0.825626</td>\n",
              "      <td>0.284200</td>\n",
              "    </tr>\n",
              "  </tbody>\n",
              "</table>\n",
              "</div>"
            ],
            "text/plain": [
              "                                   MAE       MSE  ...  Accuracy  F1-Score\n",
              "Multi-Layer-Perceptron Model  1.394990  3.533719  ...  0.624277  0.368979\n",
              "AlexNet CNN                   1.301541  3.205202  ...  0.607900  0.382466\n",
              "InceptionV3                   1.365125  3.101156  ...  0.825626  0.284200\n",
              "\n",
              "[3 rows x 6 columns]"
            ]
          },
          "metadata": {
            "tags": []
          },
          "execution_count": 53
        }
      ]
    }
  ]
}