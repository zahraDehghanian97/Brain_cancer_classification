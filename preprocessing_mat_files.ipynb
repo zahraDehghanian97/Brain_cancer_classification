{
  "nbformat": 4,
  "nbformat_minor": 0,
  "metadata": {
    "colab": {
      "provenance": [],
      "include_colab_link": true
    },
    "kernelspec": {
      "display_name": "Python 3",
      "name": "python3"
    },
    "language_info": {
      "name": "python"
    }
  },
  "cells": [
    {
      "cell_type": "markdown",
      "metadata": {
        "id": "view-in-github",
        "colab_type": "text"
      },
      "source": [
        "<a href=\"https://colab.research.google.com/github/zahraDehghanian97/Brain_cancer_classification/blob/master/preprocessing_mat_files.ipynb\" target=\"_parent\"><img src=\"https://colab.research.google.com/assets/colab-badge.svg\" alt=\"Open In Colab\"/></a>"
      ]
    },
    {
      "cell_type": "code",
      "metadata": {
        "id": "ORKWOdNtqIe2"
      },
      "source": [
        "import os\n",
        "import numpy as np\n",
        "import pandas as pd\n",
        "import h5py\n",
        "from matplotlib import pyplot as plt\n",
        "from matplotlib import rcParams\n",
        "import seaborn as sns\n",
        "from PIL import Image\n"
      ],
      "execution_count": 1,
      "outputs": []
    },
    {
      "cell_type": "code",
      "source": [
        "#Connect Google Drive to Colab\n",
        "\n",
        "from google.colab import drive\n",
        "drive.mount('/content/drive')"
      ],
      "metadata": {
        "id": "x9HUlBrc_SDy",
        "outputId": "28136d3a-5dc4-4b9f-b205-4450f5ddf303",
        "colab": {
          "base_uri": "https://localhost:8080/"
        }
      },
      "execution_count": 2,
      "outputs": [
        {
          "output_type": "stream",
          "name": "stdout",
          "text": [
            "Mounted at /content/drive\n"
          ]
        }
      ]
    },
    {
      "cell_type": "code",
      "source": [
        "#Drive REST API and authenticate\n",
        "\n",
        "from google.colab import auth\n",
        "auth.authenticate_user()"
      ],
      "metadata": {
        "id": "p95kF-SmGkXv"
      },
      "execution_count": 7,
      "outputs": []
    },
    {
      "cell_type": "code",
      "source": [
        "# change dir\n",
        "import os\n",
        "os.chdir('/content/drive/My Drive/Colab Notebooks')\n",
        "os.mkdir(\"Brain Cancer\")\n",
        "!ls -a"
      ],
      "metadata": {
        "id": "yZoS67hOGsMp",
        "outputId": "786bfbf0-fa4b-4465-ff6c-ef0450d34f1d",
        "colab": {
          "base_uri": "https://localhost:8080/"
        }
      },
      "execution_count": 12,
      "outputs": [
        {
          "output_type": "stream",
          "name": "stdout",
          "text": [
            " 4_link_predict.ipynb\n",
            "'Algorithm2_for_counting_Triangles (3).ipynb'\n",
            " ARIMA.ipynb\n",
            "'base_models (1).ipynb'\n",
            " base_models.ipynb\n",
            " bda_hw1_2.ipynb\n",
            " BiLSTM_POS_Tagging.ipynb\n",
            " Classification.ipynb\n",
            " colab_pro_2.ipynb\n",
            "'Copy of PU_Biased_CIFAR10(1).ipynb'\n",
            "'Copy of simpleALAD.ipynb'\n",
            " CS246_1aPy2.ipynb\n",
            " CS246_2_1.ipynb\n",
            " CS246_2_2.ipynb\n",
            "'dgl_gnn_large (1).ipynb'\n",
            "'dgl_gnn_large (2).ipynb'\n",
            " dgl_gnn_large.ipynb\n",
            "'ENGNN (4).ipynb'\n",
            " ENGNN_run_1.ipynb\n",
            " ENGNN_run_2.ipynb\n",
            " ENGNN_run.ipynb\n",
            " gc_const_new.ipynb\n",
            " gnlp_prs.ipynb\n",
            " gnn_extend_1.ipynb\n",
            "'gnn_extend(1).ipynb'\n",
            " GNN-extend.ipynb\n",
            " gnn_extend_new_names.ipynb\n",
            " gnn_extend-new-names.ipynb\n",
            " graph_construction_dep_seqlink_two.ipynb\n",
            " hw1_3.ipynb\n",
            "'IRSE_Project(1).ipynb'\n",
            "'last (1).ipynb'\n",
            " last2.ipynb\n",
            " last.ipynb\n",
            "'last_simple_(1).ipynb'\n",
            " link_predict_final.ipynb\n",
            " link_predict.ipynb\n",
            " link_predict_new.ipynb\n",
            " ML_project_1.ipynb\n",
            " nlp_hw1_final_1.ipynb\n",
            " nlp_hw1.ipynb\n",
            "'NLP_PART2_(1).ipynb'\n",
            " node_classification_final_experiments_1.ipynb\n",
            " node_classification_final_experiments.ipynb\n",
            "'pn_summary (1).ipynb'\n",
            " pn_summary.ipynb\n",
            " regression.ipynb\n",
            " Regression.ipynb\n",
            " run_gnlp_cnn.ipynb\n",
            " run_gnlp_dep_ie_1.ipynb\n",
            "'run_gnlp_ie_dep_copy (1) (1).ipynb'\n",
            "'run_gnlp_ie_dep_copy (1).ipynb'\n",
            " run_xsum_copy.ipynb\n",
            " thyroid-disease-detection-using-deep-lear-019607.ipynb\n",
            " Untitled\n",
            " Untitled0.ipynb\n",
            "'Untitled (1)'\n",
            " Untitled10.ipynb\n",
            " Untitled11.ipynb\n",
            " Untitled12.ipynb\n",
            " Untitled13.ipynb\n",
            " Untitled14.ipynb\n",
            " Untitled15.ipynb\n",
            " Untitled16.ipynb\n",
            " Untitled17.ipynb\n",
            " Untitled18.ipynb\n",
            " Untitled19.ipynb\n",
            " Untitled1.ipynb\n",
            "'Untitled (2)'\n",
            " Untitled20.ipynb\n",
            " Untitled2.ipynb\n",
            "'Untitled (3)'\n",
            " Untitled3.ipynb\n",
            "'Untitled (4)'\n",
            " Untitled4.ipynb\n",
            " Untitled5.ipynb\n",
            " Untitled6.ipynb\n",
            " Untitled7.ipynb\n",
            " Untitled8.ipynb\n",
            " Untitled9.ipynb\n",
            " VaryingModel.ipynb\n"
          ]
        }
      ]
    },
    {
      "cell_type": "code",
      "source": [
        "#Download Files for google drive\n",
        "from google.colab import files\n",
        "import requests \n",
        "file_url = \"https://ndownloader.figshare.com/articles/1512427/versions/5\"\n",
        "\t\n",
        "r = requests.get(file_url, stream = True) \n",
        "\n",
        "with open(\"/content/drive/My Drive/Colab Notebooks/Brain Cancer/data.zip\", \"wb\") as file: \n",
        "\tfor block in r.iter_content(chunk_size = 1024): \n",
        "\t\tif block: \n",
        "\t\t\tfile.write(block) "
      ],
      "metadata": {
        "id": "JT7mFeDREbjW"
      },
      "execution_count": 14,
      "outputs": []
    },
    {
      "cell_type": "code",
      "source": [
        "#unzip data in dataset\n",
        "!unzip -q \"/content/drive/MyDrive/Colab Notebooks/Brain Cancer/data.zip\" -d \"/content/drive/MyDrive/Colab Notebooks/Brain Cancer/dataset/\"\n"
      ],
      "metadata": {
        "id": "xp9Wj6n4I2Bh"
      },
      "execution_count": 27,
      "outputs": []
    },
    {
      "cell_type": "code",
      "source": [
        "##Extract All zip into Mat Files\n",
        "import os, zipfile\n",
        "\n",
        "dir_name = '/content/drive/My Drive/Colab Notebooks/Brain Cancer/dataset'\n",
        "Extract_dir_name1 = '/content/drive/My Drive/Colab Notebooks/Brain Cancer/Mat Files'\n",
        "os.chdir('/content/drive/My Drive/Colab Notebooks/Brain Cancer/dataset')\n",
        "\n",
        "for item in os.listdir(dir_name): # loop through items in dir\n",
        "    if item.endswith(\".zip\"): # check for \".zip\" extension\n",
        "        file_name = os.path.abspath(item) # get full path of files\n",
        "        print (file_name) #Print zip file Name\n",
        "        zip_ref = zipfile.ZipFile(file_name) # create zipfile object\n",
        "        zip_ref.extractall(Extract_dir_name1) # extract file to Extract dir\n",
        "        zip_ref.close() # close file\n",
        "        os.remove(file_name) # delete zipped file\n",
        "\n",
        "     "
      ],
      "metadata": {
        "id": "b-bdWgN6_Fqr",
        "outputId": "129cc8e8-4087-463b-be60-47f5294d387c",
        "colab": {
          "base_uri": "https://localhost:8080/"
        }
      },
      "execution_count": 29,
      "outputs": [
        {
          "output_type": "stream",
          "name": "stdout",
          "text": [
            "/content/drive/My Drive/Colab Notebooks/Brain Cancer/dataset/brainTumorDataPublic_1-766.zip\n",
            "/content/drive/My Drive/Colab Notebooks/Brain Cancer/dataset/brainTumorDataPublic_1533-2298.zip\n",
            "/content/drive/My Drive/Colab Notebooks/Brain Cancer/dataset/brainTumorDataPublic_767-1532.zip\n",
            "/content/drive/My Drive/Colab Notebooks/Brain Cancer/dataset/brainTumorDataPublic_2299-3064.zip\n"
          ]
        }
      ]
    },
    {
      "cell_type": "code",
      "metadata": {
        "id": "F0vfuVcWqcZ9"
      },
      "source": [
        "def mat_file_to_dict(filepath: str) -> dict:\n",
        "    tumor_class = {1: 'meningioma', 2: 'glioma', 3: 'pituitary_tumor'}\n",
        "    tumor_data_dict = {}\n",
        "    with h5py.File(filepath, mode = 'r') as image_data:\n",
        "        cjdata_struct = image_data['cjdata']\n",
        "        tumor_data_dict['class'] = tumor_class[int(cjdata_struct['label'][0, 0])]\n",
        "        tumor_data_dict['image'] = cjdata_struct['image'][:].transpose()\n",
        "        tumor_data_dict['tumor_border'] = cjdata_struct['tumorBorder'][0]\n",
        "        tumor_data_dict['tumor_mask'] = cjdata_struct['tumorMask'][:].transpose()\n",
        "    return tumor_data_dict"
      ],
      "execution_count": 30,
      "outputs": []
    },
    {
      "cell_type": "code",
      "metadata": {
        "id": "kI_0EWikrbTS"
      },
      "source": [
        "def generate_img_from_mat(mat_file_data: dict) -> None:\n",
        "    plt.figure(figsize = (15, 7))\n",
        "    tumor_mri = plt.imshow(mat_file_data['image'], cmap = 'gray')\n",
        "    plt.axis('off')"
      ],
      "execution_count": 31,
      "outputs": []
    },
    {
      "cell_type": "code",
      "metadata": {
        "id": "suNRkCzkTK89",
        "outputId": "f8b74b4c-b749-402a-a384-71bc7c942179",
        "colab": {
          "base_uri": "https://localhost:8080/"
        }
      },
      "source": [
        "rootpath_dataset = '/content/drive/My Drive/Colab Notebooks/Brain Cancer'\n",
        "mat_dirname = 'Mat Files'\n",
        "training_dir = os.path.join(rootpath_dataset, 'Training')\n",
        "\n",
        "m_count, g_count, p_count = (0, 0, 0)\n",
        "for root, dirpath, filenames in os.walk(os.path.join(rootpath_dataset, mat_dirname)):\n",
        "    for curr_file in filenames:\n",
        "        mri_img_data = mat_file_to_dict(os.path.join(root, curr_file))\n",
        "        tumor_class = mri_img_data['class']\n",
        "        generate_img_from_mat(mri_img_data)\n",
        "        if tumor_class == 'meningioma':\n",
        "            m_count += 1\n",
        "            m_path = os.path.join(training_dir, 'meningioma')\n",
        "            if not os.path.exists(m_path):\n",
        "                os.mkdir(m_path)\n",
        "            plt.savefig(os.path.join(m_path, f'M{m_count}.jpg'), dpi = 300, bbox_inches = 'tight', pad_inches = 0)\n",
        "        elif tumor_class == 'glioma':\n",
        "            g_count += 1\n",
        "            g_path = os.path.join(training_dir, 'glioma')\n",
        "            if not os.path.exists(g_path):\n",
        "                os.mkdir(g_path)\n",
        "            plt.savefig(os.path.join(g_path, f'G{g_count}.jpg'), dpi = 300, bbox_inches = 'tight', pad_inches = 0)\n",
        "        elif tumor_class == 'pituitary_tumor':\n",
        "            p_count += 1\n",
        "            p_path = os.path.join(training_dir, 'pituitary_tumor')\n",
        "            if not os.path.exists(p_path):\n",
        "                os.mkdir(p_path)\n",
        "            plt.savefig(os.path.join(p_path, f'P{p_count}.jpg'), dpi = 300, bbox_inches = 'tight', pad_inches = 0)\n",
        "        else:\n",
        "            pass"
      ],
      "execution_count": null,
      "outputs": [
        {
          "output_type": "stream",
          "name": "stderr",
          "text": [
            "<ipython-input-31-60754b8307cf>:2: RuntimeWarning: More than 20 figures have been opened. Figures created through the pyplot interface (`matplotlib.pyplot.figure`) are retained until explicitly closed and may consume too much memory. (To control this warning, see the rcParam `figure.max_open_warning`).\n",
            "  plt.figure(figsize = (15, 7))\n"
          ]
        }
      ]
    }
  ]
}